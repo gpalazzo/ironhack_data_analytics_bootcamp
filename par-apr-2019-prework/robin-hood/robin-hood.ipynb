{
 "cells": [
  {
   "cell_type": "markdown",
   "metadata": {},
   "source": [
    "# Robin Hood:\n",
    "We are in a competition to win the archery contest in Sherwood. With our bow and arrows we shoot on a target and try to hit as close as possible to the center.\n",
    "\n",
    "The center of the target is represented by the values (0, 0) on the coordinate axes.\n",
    "\n",
    "![](images/arrows.jpg)\n",
    "\n",
    "## Goals:\n",
    "* data structures: lists, sets, tuples\n",
    "* logical operators: if-elif-else\n",
    "* loop: while/for\n",
    "* minimum (optional sorting)\n",
    "\n",
    "## Description:\n",
    "In the 2-dimensional space, a point can be defined by a pair of values that correspond to the horizontal coordinate (x) and the vertical coordinate (y). The space can be divided into 4 zones (quadrants): Q1, Q2, Q3, Q4. Whose single point of union is the point (0, 0).\n",
    "\n",
    "If a point is in Q1 both its x coordinate and the y are positive. I leave a link to wikipedia to familiarize yourself with these quadrants.\n",
    "\n",
    "https://en.wikipedia.org/wiki/Cartesian_coordinate_system\n",
    "\n",
    "https://en.wikipedia.org/wiki/Euclidean_distance\n",
    "\n",
    "## Shots\n",
    "```\n",
    "points = [(4, 5), (-0, 2), (4, 7), (1, -3), (3, -2), (4, 5),\n",
    "          (3, 2), (5, 7), (-5, 7), (2, 2), (-4, 5), (0, -2),\n",
    "          (-4, 7), (-1, 3), (-3, 2), (-4, -5), (-3, 2),\n",
    "          (5, 7), (5, 7), (2, 2), (9, 9), (-8, -9)]\n",
    "```\n",
    "\n",
    "## Tasks\n",
    "1. Robin Hood is famous for hitting an arrow with another arrow. Did you get it?\n",
    "2. Calculate how many arrows have fallen in each quadrant.\n",
    "3. Find the point closest to the center. Calculate its distance to the center. \n",
    "4. If the target has a radius of 9, calculate the number of arrows that must be picked up in the forest."
   ]
  },
  {
   "cell_type": "code",
   "execution_count": 1,
   "metadata": {},
   "outputs": [],
   "source": [
    "# Variables\n",
    "\n",
    "points = [(4, 5), (-0, 2), (4, 7), (1, -3), (3, -2), (4, 5),\n",
    "          (3, 2), (5, 7), (-5, 7), (2, 2), (-4, 5), (0, -2),\n",
    "          (-4, 7), (-1, 3), (-3, 2), (-4, -5), (-3, 2),\n",
    "          (5, 7), (5, 7), (2, 2), (9, 9), (-8, -9)]"
   ]
  },
  {
   "cell_type": "code",
   "execution_count": 1,
   "metadata": {},
   "outputs": [
    {
     "name": "stdout",
     "output_type": "stream",
     "text": [
      "22\n"
     ]
    }
   ],
   "source": [
    "# Variables\n",
    "\n",
    "count_rpt = 0\n",
    "\n",
    "for i, point in enumerate(points):\n",
    "    if point in points[i+1:]:\n",
    "        count_rpt += 1\n",
    "\n",
    "print(\"Amount of repetead points: {}\".format(count_rpt))"
   ]
  },
  {
   "cell_type": "code",
   "execution_count": 3,
   "metadata": {},
   "outputs": [
    {
     "name": "stdout",
     "output_type": "stream",
     "text": [
      "No Quadrante #1:  10\n",
      "No Quadrante #2:  6\n",
      "No Quadrante #3:  2\n",
      "No Quadrante #4:  2\n"
     ]
    }
   ],
   "source": [
    "points = [(4, 5), (-0, 2), (4, 7), (1, -3), (3, -2), (4, 5),\n",
    "          (3, 2), (5, 7), (-5, 7), (2, 2), (-4, 5), (0, -2),\n",
    "          (-4, 7), (-1, 3), (-3, 2), (-4, -5), (-3, 2),\n",
    "          (5, 7), (5, 7), (2, 2), (9, 9), (-8, -9)]\n",
    "\n",
    "# 2. Calculate how many arrows have fallen in each quadrant.\n",
    "count_q1=0\n",
    "count_q2=0\n",
    "count_q3=0\n",
    "count_q4=0\n",
    "\n",
    "def whichQuadrant(x,y):\n",
    "    if x>0 and y>0:\n",
    "        return 1\n",
    "    elif x<0 and y>0:\n",
    "        return 2\n",
    "    elif x<0 and y<0:\n",
    "        return 3\n",
    "    elif x>0 and y<0:\n",
    "        return 4\n",
    "\n",
    "\n",
    "for point in points:\n",
    "    x=point[0]\n",
    "    y=point[-1]    \n",
    "    where_quadrant=whichQuadrant(x,y)\n",
    "    if  where_quadrant==1:\n",
    "        count_q1+=1\n",
    "    elif where_quadrant==2:\n",
    "        count_q2+=1\n",
    "    elif where_quadrant==3:\n",
    "        count_q3+=1\n",
    "    elif where_quadrant==4:\n",
    "        count_q4+=1\n",
    "\n",
    "print(\"No Quadrante #1: \",count_q1)\n",
    "print(\"No Quadrante #2: \",count_q2)\n",
    "print(\"No Quadrante #3: \",count_q3)\n",
    "print(\"No Quadrante #4: \",count_q4)\n",
    "\n"
   ]
  },
  {
   "cell_type": "code",
   "execution_count": 5,
   "metadata": {},
   "outputs": [
    {
     "name": "stdout",
     "output_type": "stream",
     "text": [
      "(0, -1)\n"
     ]
    }
   ],
   "source": [
    "# 3. Find the point closest to the center. Calculate its distance to the center\n",
    "# Defining a function that calculates the distance to the center can help.\n",
    "\n",
    "from scipy.spatial import distance\n",
    "import numpy as np\n",
    "\n",
    "center = np.array((0, 0))\n",
    "prev_dist = 999999\n",
    "\n",
    "def euclidean_dist(point):\n",
    "    dst = distance.euclidean(center, point) \n",
    "    return abs(dst)\n",
    "\n",
    "\n",
    "for point in points:\n",
    "    curr_dist = euclidean_dist(np.array(point))\n",
    "    if curr_dist < prev_dist:\n",
    "        nearest_point = point\n",
    "        prev_dist = curr_dist\n",
    "\n",
    "print(\"Nearest point: {}\".format(nearest_point))"
   ]
  },
  {
   "cell_type": "code",
   "execution_count": null,
   "metadata": {},
   "outputs": [],
   "source": [
    "points = [(4, 5), (-0, 2), (4, 7), (1, -3), (3, -2), (4, 5),\n",
    "          (3, 2), (5, 7), (-5, 7),(0,-1), (2, 2), (-4, 5), (0, -2),\n",
    "          (-4, 7), (-1, 3), (-3, 2), (-4, -5), (-3, 2),\n",
    "          (5, 7), (5, 7), (2, 2), (9, 9), (-8, -9)]\n",
    "\n",
    "#circ equation: x^2 + yˆ2 = rˆ2\n",
    "\n",
    "radius=9\n",
    "radius2 = radius*radius\n",
    "count_arrows_out=0\n",
    "points_outside = []\n",
    "\n",
    "for point in points:\n",
    "    if point[0]*point[0] + point[1]*point[1] > radius2:\n",
    "        count_arrows_out += 1\n",
    "        points_outside.append(point)\n",
    "\n",
    "print(\"Amount of arrows picked up in the forest: {}\".format(count_arrows_out))\n",
    "print(points_outside)"
   ]
  }
 ],
 "metadata": {
  "kernelspec": {
   "display_name": "Python 3",
   "language": "python",
   "name": "python3"
  },
  "language_info": {
   "codemirror_mode": {
    "name": "ipython",
    "version": 3
   },
   "file_extension": ".py",
   "mimetype": "text/x-python",
   "name": "python",
   "nbconvert_exporter": "python",
   "pygments_lexer": "ipython3",
   "version": "3.6.8"
  }
 },
 "nbformat": 4,
 "nbformat_minor": 2
}
