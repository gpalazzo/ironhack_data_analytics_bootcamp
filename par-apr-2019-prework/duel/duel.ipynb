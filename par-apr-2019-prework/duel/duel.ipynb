{
 "cells": [
  {
   "cell_type": "markdown",
   "metadata": {},
   "source": [
    "# Duel of sorcerers\n",
    "You are witnessing an epic battle between two powerful sorcerers: Gandalf and Saruman. Each sorcerer has 10 spells of variable power in their mind and they are going to throw them one after the other. The winner of the duel will be the one who wins more of those clashes between spells. Spells are represented as a list of 10 integers whose value equals the power of the spell.\n",
    "```\n",
    "gandalf = [10, 11, 13, 30, 22, 11, 10, 33, 22, 22]\n",
    "saruman = [23, 66, 12, 43, 12, 10, 44, 23, 12, 17]\n",
    "```\n",
    "For example:\n",
    "1. The first clash is won by Saruman: 10 against 23, wins 23\n",
    "2. The second clash wins Saruman: 11 against 66, wins 66\n",
    "3. etc.\n",
    "\n",
    "\n",
    "You will create two variables, one for each sorcerer, where the sum of clashes won will be stored. Depending on which variable is greater at the end of the duel, you will show one of the following three results on the screen:\n",
    "* Gandalf wins\n",
    "* Saruman wins\n",
    "* Tie\n",
    "\n",
    "<img src=\"images/content_lightning_bolt_big.jpg\" width=\"400\">"
   ]
  },
  {
   "cell_type": "markdown",
   "metadata": {},
   "source": [
    "## Solution"
   ]
  },
  {
   "cell_type": "code",
   "execution_count": 1,
   "metadata": {},
   "outputs": [],
   "source": [
    "# Assign spell power lists to variables\n",
    "\n",
    "gandalf = [10, 11, 13, 30, 22, 11, 10, 33, 22, 22]\n",
    "saruman = [23, 66, 12, 43, 12, 10, 44, 23, 12, 17]"
   ]
  },
  {
   "cell_type": "code",
   "execution_count": 2,
   "metadata": {},
   "outputs": [],
   "source": [
    "# Assign 0 to each variable that stores the victories\n",
    "tamanho_lista=len(gandalf) # entrega tamanho da lista\n",
    "a=0 #variável criada para iterar na lista gandalf, valor inical 0 significa que vai iniciar no primeiro item\n",
    "b=0 #variável criada para iterar na lista saruman, valor inical 0 significa que vai iniciar no primeiro item\n",
    "r=0 # na enésima rodada, se r> 0 Gandalf wins, se r<0 Saruman wins, se r=0 Empate\n",
    "vic_gandalf=0 # vitórias de gandalf, inica com valor 0\n",
    "vic_saruman=0 # vitórias de saruman, inica com valor 0\n",
    "draw=0 # empates inica valor 0\n",
    "msg_vencedor=\"\" # declara a mensagem de vencedeor, incialmente vazia"
   ]
  },
  {
   "cell_type": "code",
   "execution_count": 3,
   "metadata": {},
   "outputs": [],
   "source": [
    "# Execution of spell clashes\n",
    "for n in range(tamanho_lista):\n",
    "    a=gandalf[a] #variável atualiza com o n-ésimo valor da lista \"gandalf\", para n = 0 (1ªrodada) a variável a pega valor do item 0 da lista gandalf, e assim sucessivamente\n",
    "    b=saruman[b] #variável atualiza com o n-ésimo valor da lista \"saruman\", para n = 0 (1ªrodada) a variável a pega valor do item 0 da lista saruman, e assim sucessivamente\n",
    "    r=a-b  #calcula elemento gandalf - saruman = 10-23 = -13\n",
    "    if r>0:\n",
    "        vic_gandalf=vic_gandalf+1\n",
    "    elif r==0:\n",
    "        draw=draw+1\n",
    "    else:\n",
    "        vic_saruman=vic_saruman+1\n",
    "    a=n+1 #atualiza a\n",
    "    b=n+1 #atualiza b\n",
    "    n=n+1 #atualiza n"
   ]
  },
  {
   "cell_type": "code",
   "execution_count": 2,
   "metadata": {},
   "outputs": [
    {
     "name": "stdout",
     "output_type": "stream",
     "text": [
      "Quem venceu foi Gandalf\n"
     ]
    }
   ],
   "source": [
    "gandalf = [10, 11, 13, 30, 22, 11, 10, 33, 22, 22]\n",
    "saruman = [23, 66, 12, 43, 12, 10, 44, 23, 12, 17]\n",
    "tamanho_lista=len(gandalf) # entrega tamanho da lista\n",
    "a=0 #variável criada para iterar na lista gandalf, valor inical 0 significa que vai iniciar no primeiro item\n",
    "b=0 #variável criada para iterar na lista saruman, valor inical 0 significa que vai iniciar no primeiro item\n",
    "r=0 # na enésima rodada, se r> 0 Gandalf wins, se r<0 Saruman wins, se r=0 Empate\n",
    "vic_gandalf=0 # vitórias de gandalf, inica com valor 0\n",
    "vic_saruman=0 # vitórias de saruman, inica com valor 0\n",
    "draw=0 # empates inica valor 0\n",
    "msg_vencedor=\"\" # declara a mensagem de vencedeor, incialmente vazia\n",
    "\n",
    "for n in range(tamanho_lista):\n",
    "    a=gandalf[a] #variável atualiza com o n-ésimo valor da lista \"gandalf\", para n = 0 (1ªrodada) a variável a pega valor do item 0 da lista gandalf, e assim sucessivamente\n",
    "    b=saruman[b] #variável atualiza com o n-ésimo valor da lista \"saruman\", para n = 0 (1ªrodada) a variável a pega valor do item 0 da lista saruman, e assim sucessivamente\n",
    "    r=a-b  #calcula elemento gandalf - saruman = 10-23 = -13\n",
    "    if r>0:\n",
    "        vic_gandalf=vic_gandalf+1\n",
    "    elif r==0:\n",
    "        draw=draw+1\n",
    "    else:\n",
    "        vic_saruman=vic_saruman+1\n",
    "    a=n+1 #atualiza a\n",
    "    b=n+1 #atualiza b\n",
    "    n=n+1 #atualiza n\n",
    "# We check who has won, do not forget the possibility of a draw.\n",
    "if vic_gandalf>vic_saruman:\n",
    "    msg_vencedor=\"Quem venceu foi Gandalf\"\n",
    "elif vic_gandalf==vic_saruman:\n",
    "    msg_vencedor=\"Deu empate\"\n",
    "else:\n",
    "    msg_vencedor=\"Quem venceu foi Saruman\"\n",
    "# Print the result based on the winner.\n",
    "print(msg_vencedor)\n"
   ]
  },
  {
   "cell_type": "markdown",
   "metadata": {},
   "source": [
    "## Goals\n",
    "\n",
    "1. Treatment of lists\n",
    "2. Use of **for loop**\n",
    "3. Use of conditional **if-elif-else**\n",
    "4. Use of the functions **range(), len()**\n",
    "5. Print"
   ]
  },
  {
   "cell_type": "markdown",
   "metadata": {},
   "source": [
    "## Bonus\n",
    "\n",
    "1. Spells now have a name and there is a dictionary that relates that name to a power.\n",
    "2. A sorcerer wins if he succeeds in winning 3 spell clashes in a row.\n",
    "3. Average of each of the spell lists.\n",
    "4. Standard deviation of each of the spell lists.\n",
    "\n",
    "```\n",
    "POWER = {\n",
    "    'Fireball': 50, \n",
    "    'Lightning bolt': 40, \n",
    "    'Magic arrow': 10, \n",
    "    'Black Tentacles': 25, \n",
    "    'Contagion': 45\n",
    "}\n",
    "\n",
    "gandalf = ['Fireball', 'Lightning bolt', 'Lightning bolt', 'Magic arrow', 'Fireball', \n",
    "           'Magic arrow', 'Lightning bolt', 'Fireball', 'Fireball', 'Fireball']\n",
    "saruman = ['Contagion', 'Contagion', 'Black Tentacles', 'Fireball', 'Black Tentacles', \n",
    "           'Lightning bolt', 'Magic arrow', 'Contagion', 'Magic arrow', 'Magic arrow']\n",
    "```\n",
    "\n",
    "Good luck!"
   ]
  },
  {
   "cell_type": "code",
   "execution_count": 5,
   "metadata": {},
   "outputs": [],
   "source": [
    "# 1. Spells now have a name and there is a dictionary that relates that name to a power.\n",
    "# variables\n",
    "\n",
    "POWER = {\n",
    "    'Fireball': 50, \n",
    "    'Lightning bolt': 40, \n",
    "    'Magic arrow': 10, \n",
    "    'Black Tentacles': 25, \n",
    "    'Contagion': 45\n",
    "}\n",
    "\n",
    "gandalf = ['Fireball', 'Lightning bolt', 'Lightning bolt', 'Magic arrow', 'Fireball', \n",
    "           'Magic arrow', 'Lightning bolt', 'Fireball', 'Magic arrow', 'Fireball']\n",
    "\n",
    "saruman = ['Contagion', 'Contagion', 'Black Tentacles', 'Fireball', 'Black Tentacles', \n",
    "           'Lightning bolt', 'Magic arrow', 'Contagion', 'Magic arrow', 'Magic arrow']"
   ]
  },
  {
   "cell_type": "code",
   "execution_count": 6,
   "metadata": {},
   "outputs": [],
   "source": [
    "# Assign spell power lists to variables\n",
    "# if it ties, do we must reinitialize the counter?\n",
    "g_win = 0\n",
    "s_win = 0\n",
    "stop = False\n",
    "\n",
    "for i, g_spell in enumerate(gandalf):\n",
    "    \n",
    "    if not stop:\n",
    "        \n",
    "        if POWER[g_spell] > POWER[saruman[i]]:\n",
    "            g_win += 1\n",
    "            s_win = 0\n",
    "            if g_win == 3:\n",
    "                print(\"Gandalf wins\")\n",
    "                stop = True\n",
    "\n",
    "        elif POWER[g_spell] < POWER[saruman[i]]:\n",
    "            s_win += 1\n",
    "            g_win = 0\n",
    "            if s_win == 3:\n",
    "                print(\"Saruman wins\")\n",
    "                stop = True\n",
    "        \n",
    "#         else:\n",
    "#             print(\"Tie\")"
   ]
  },
  {
   "cell_type": "code",
   "execution_count": 7,
   "metadata": {},
   "outputs": [],
   "source": [
    "def unpack(dict_spell):\n",
    "    g_values = [dict_spell[spell] for spell in gandalf]\n",
    "    s_values = [dict_spell[spell] for spell in saruman]\n",
    "    return g_values, s_values"
   ]
  },
  {
   "cell_type": "code",
   "execution_count": 8,
   "metadata": {},
   "outputs": [],
   "source": [
    "# 3. Average of each of the spell lists.\n",
    "import numpy as np\n",
    "\n",
    "g_values, s_values = unpack(POWER)\n",
    "g_mean = np.mean(g_values)\n",
    "s_mean = np.mean(s_values)\n",
    "\n",
    "print(\"Gandalf mean: {:.2f}\\nSaruman mean: {:.2f}\".format(g_mean, s_mean))"
   ]
  },
  {
   "cell_type": "code",
   "execution_count": 9,
   "metadata": {},
   "outputs": [],
   "source": [
    "# 4. Standard deviation of each of the spell lists.\n",
    "\n",
    "g_std_dev = np.std(g_values)\n",
    "s_std_dev = np.std(s_values)\n",
    "\n",
    "print(\"Gandalf std deviation: {:.2f}\\nSaruman std deviation: {:.2f}\".format(g_std_dev, s_std_dev))"
   ]
  }
 ],
 "metadata": {
  "kernelspec": {
   "display_name": "Python 3",
   "language": "python",
   "name": "python3"
  },
  "language_info": {
   "codemirror_mode": {
    "name": "ipython",
    "version": 3
   },
   "file_extension": ".py",
   "mimetype": "text/x-python",
   "name": "python",
   "nbconvert_exporter": "python",
   "pygments_lexer": "ipython3",
   "version": "3.6.8"
  }
 },
 "nbformat": 4,
 "nbformat_minor": 2
}
