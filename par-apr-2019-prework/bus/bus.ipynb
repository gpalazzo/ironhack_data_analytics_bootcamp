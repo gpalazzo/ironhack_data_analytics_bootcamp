{
 "cells": [
  {
   "cell_type": "markdown",
   "metadata": {},
   "source": [
    "# Bus\n",
    "\n",
    "This bus has a passenger entry and exit control system to monitor the number of occupants it carries and thus detect when there is too high a capacity.\n",
    "\n",
    "At each stop the entry and exit of passengers is represented by a tuple consisting of two integer numbers.\n",
    "```\n",
    "bus_stop = (in, out)\n",
    "```\n",
    "The succession of stops is represented by a list of these tuples.\n",
    "```\n",
    "stops = [(in1, out1), (in2, out2), (in3, out3), (in4, out4)]\n",
    "```\n",
    "\n",
    "## Goals:\n",
    "* lists, tuples\n",
    "* while/for loops\n",
    "* minimum, maximum, length\n",
    "* average, standard deviation\n",
    "\n",
    "## Tasks\n",
    "1. Calculate the number of stops.\n",
    "2. Assign to a variable a list whose elements are the number of passengers at each stop (in-out),\n",
    "3. Find the maximum occupation of the bus.\n",
    "4. Calculate the average occupation. And the standard deviation.\n"
   ]
  },
  {
   "cell_type": "code",
   "execution_count": 1,
   "metadata": {},
   "outputs": [
    {
     "name": "stdout",
     "output_type": "stream",
     "text": [
      "There are 9 stops.\n",
      "The list of people in and out is: [10, 3, -2, -1, 4, -4, -3, -2, -1]\n",
      "The max occupation of the bus is 14\n",
      "The average occupation is 9.333333333333334\n",
      "The standard deviation is 3.197221015541813\n"
     ]
    }
   ],
   "source": [
    "stops = [(10, 0), (4, 1), (3, 5), (3, 4), (5, 1), (1, 5), (5, 8 ), (4, 6), (2, 3)]\n",
    "\n",
    "#Calculate the number of stops\n",
    "qtystops = len(stops)\n",
    "print(\"There are\",qtystops,\"stops.\")\n",
    "\n",
    "#Passengers in and out in each stop\n",
    "flow = []\n",
    "\n",
    "for i in range(qtystops):\n",
    "    flow.append(stops[i][0] - stops[i][1])\n",
    "\n",
    "print(\"The list of people in and out is:\",flow)\n",
    "\n",
    "#Occupation list in each stop\n",
    "numpass = [flow[0]]\n",
    "#print(numpass)\n",
    "for i in range(1,qtystops):\n",
    "    numpass.append(numpass[i-1]+flow[i])\n",
    "    if numpass[i] < 0:\n",
    "        numpass.remove(numpass[i])\n",
    "        numpass.append(0)\n",
    "#   print(numpass)\n",
    "maxocc = max(numpass)\n",
    "\n",
    "#Max occupation of the bus\n",
    "print(\"The max occupation of the bus is\",maxocc)\n",
    "\n",
    "#Average occupation\n",
    "average = sum(numpass)/len(numpass)\n",
    "print(\"The average occupation is\",average)\n",
    "\n",
    "#Standard deviation calculation\n",
    "var = []\n",
    "for i in range(qtystops):\n",
    "    var.append((numpass[i] - average)**2)\n",
    "\n",
    "aux = sum(var)/len(var)\n",
    "\n",
    "stddev = aux**0.5\n",
    "print(\"The standard deviation is\",stddev)"
   ]
  }
 ],
 "metadata": {
  "kernelspec": {
   "display_name": "Python 3",
   "language": "python",
   "name": "python3"
  },
  "language_info": {
   "codemirror_mode": {
    "name": "ipython",
    "version": 3
   },
   "file_extension": ".py",
   "mimetype": "text/x-python",
   "name": "python",
   "nbconvert_exporter": "python",
   "pygments_lexer": "ipython3",
   "version": "3.6.8"
  }
 },
 "nbformat": 4,
 "nbformat_minor": 2
}
