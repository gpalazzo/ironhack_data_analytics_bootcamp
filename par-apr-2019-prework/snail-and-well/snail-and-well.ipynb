{
 "cells": [
  {
   "cell_type": "markdown",
   "metadata": {},
   "source": [
    "# Snail and well\n",
    "\n",
    "A snail falls at the bottom of a 125 cm well. Each day the snail rises 30 cm. But at night, while sleeping, slides 20 cm because the walls are wet. How many days does it take to escape from the well?\n",
    "\n",
    "TIP: http://puzzles.nigelcoldwell.co.uk/sixtytwo.htm"
   ]
  },
  {
   "cell_type": "markdown",
   "metadata": {},
   "source": [
    "## Solución"
   ]
  },
  {
   "cell_type": "code",
   "execution_count": 1,
   "metadata": {},
   "outputs": [
    {
     "name": "stdout",
     "output_type": "stream",
     "text": [
      "Final result at day 0: 30\n",
      "Final result at night 0: 10\n",
      "Final result at day 1: 40\n",
      "Final result at night 1: 20\n",
      "Final result at day 2: 50\n",
      "Final result at night 2: 30\n",
      "Final result at day 3: 60\n",
      "Final result at night 3: 40\n",
      "Final result at day 4: 70\n",
      "Final result at night 4: 50\n",
      "Final result at day 5: 80\n",
      "Final result at night 5: 60\n",
      "Final result at day 6: 90\n",
      "Final result at night 6: 70\n",
      "Final result at day 7: 100\n",
      "Final result at night 7: 80\n",
      "Final result at day 8: 110\n",
      "Final result at night 8: 90\n",
      "Final result at day 9: 120\n",
      "Final result at night 9: 100\n",
      "Final result at day 10: 130\n",
      "10\n"
     ]
    }
   ],
   "source": [
    "days = 0\n",
    "well_height = 125\n",
    "daily_adv = 30\n",
    "night_ret = 20\n",
    "\n",
    "accum_dist = 0\n",
    "\n",
    "while accum_dist < well_height:\n",
    "    accum_dist += daily_adv\n",
    "    print(\"Final result at day {}: {}\".format(days, accum_dist))\n",
    "    if (accum_dist < well_height):\n",
    "        accum_dist -= night_ret\n",
    "        print(\"Final result at night {}: {}\".format(days, accum_dist))\n",
    "        days += 1"
   ]
  },
  {
   "cell_type": "markdown",
   "metadata": {},
   "source": [
    "## Goals\n",
    "\n",
    "1. Treatment of variables\n",
    "2. Use of loop **while**\n",
    "3. Use of conditional **if-else**\n",
    "4. Print in console"
   ]
  },
  {
   "cell_type": "markdown",
   "metadata": {},
   "source": [
    "## Bonus\n",
    "The distance traveled by the snail is now defined by a list.\n",
    "```\n",
    "advance_cm = [30, 21, 33, 77, 44, 45, 23, 45, 12, 34, 55]\n",
    "```\n",
    "How long does it take to raise the well?\n",
    "\n",
    "What is its maximum displacement in one day? And its minimum?\n",
    "\n",
    "What is its average speed during the day?\n",
    "\n",
    "What is the standard deviation of its displacement during the day?"
   ]
  },
  {
   "cell_type": "code",
   "execution_count": 3,
   "metadata": {},
   "outputs": [
    {
     "name": "stdout",
     "output_type": "stream",
     "text": [
      "Final result at day 0: 30\n",
      "Final result at night 0: 10\n",
      "Final result at day 1: 31\n",
      "Final result at night 1: 11\n",
      "Final result at day 2: 44\n",
      "Final result at night 2: 24\n",
      "Final result at day 3: 101\n",
      "Final result at night 3: 81\n",
      "Final result at day 4: 125\n",
      "Max displacement: 77\n",
      "Min displacement: 12\n",
      "Mean: 38.09\n",
      "Std Deviation: 17.16\n"
     ]
    }
   ],
   "source": [
    "# Assign problem data to variables with representative names\n",
    "# well height, daily advance, night retreat, accumulated distance\n",
    "\n",
    "import numpy as np\n",
    "\n",
    "days = 0\n",
    "well_height = 125\n",
    "night_ret = 20\n",
    "accum_dist = 0\n",
    "advance_cm = [30, 21, 33, 77, 44, 45, 23, 45, 12, 34, 55]\n",
    "stop = False\n",
    "\n",
    "for i in range(len(advance_cm)):\n",
    "    \n",
    "    if not stop:\n",
    "        accum_dist += advance_cm[i]\n",
    "        print(\"Final result at day {}: {}\".format(days, accum_dist))\n",
    "        if (accum_dist < well_height):\n",
    "            accum_dist -= night_ret\n",
    "            print(\"Final result at night {}: {}\".format(days, accum_dist))\n",
    "            days += 1\n",
    "            i += 1\n",
    "\n",
    "        else:\n",
    "            stop = True\n",
    "\n",
    "# What is its maximum displacement in a day? And its minimum?\n",
    "print(\"Max displacement: {}\".format(max(advance_cm)))\n",
    "print(\"Min displacement: {}\".format(min(advance_cm)))\n",
    "\n",
    "\n",
    "# What is its average progress?\n",
    "real_prog = advance_cm[:i+1]\n",
    "mean = np.mean(real_prog)\n",
    "print(\"Mean: {:.2f}\".format(mean))\n",
    "\n",
    "# What is the standard deviation of your displacement during the day?\n",
    "std_dev = np.std(real_prog)\n",
    "print(\"Std Deviation: {:.2f}\".format(std_dev))"
   ]
  },
  {
   "cell_type": "code",
   "execution_count": null,
   "metadata": {},
   "outputs": [],
   "source": []
  }
 ],
 "metadata": {
  "kernelspec": {
   "display_name": "Python 3",
   "language": "python",
   "name": "python3"
  },
  "language_info": {
   "codemirror_mode": {
    "name": "ipython",
    "version": 3
   },
   "file_extension": ".py",
   "mimetype": "text/x-python",
   "name": "python",
   "nbconvert_exporter": "python",
   "pygments_lexer": "ipython3",
   "version": "3.6.8"
  }
 },
 "nbformat": 4,
 "nbformat_minor": 2
}
